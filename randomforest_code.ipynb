{
  "nbformat": 4,
  "nbformat_minor": 0,
  "metadata": {
    "colab": {
      "provenance": [],
      "authorship_tag": "ABX9TyPugD60v+4RrDP9Eu83ZFIE",
      "include_colab_link": true
    },
    "kernelspec": {
      "name": "python3",
      "display_name": "Python 3"
    },
    "language_info": {
      "name": "python"
    }
  },
  "cells": [
    {
      "cell_type": "markdown",
      "metadata": {
        "id": "view-in-github",
        "colab_type": "text"
      },
      "source": [
        "<a href=\"https://colab.research.google.com/github/karth1k14/ML_project/blob/main/randomforest_code.ipynb\" target=\"_parent\"><img src=\"https://colab.research.google.com/assets/colab-badge.svg\" alt=\"Open In Colab\"/></a>"
      ]
    },
    {
      "cell_type": "code",
      "execution_count": null,
      "metadata": {
        "id": "Sm8EvB9tPUa3"
      },
      "outputs": [],
      "source": [
        "# Import necessary libraries\n",
        "import pandas as pd\n",
        "import numpy as np\n",
        "from sklearn.model_selection import train_test_split\n",
        "from sklearn.ensemble import RandomForestClassifier\n",
        "from imblearn.over_sampling import SMOTE\n",
        "from sklearn import metrics\n",
        "\n",
        "# Load dataset\n",
        "df = pd.read_csv('/content/creditcard.csv')\n",
        "\n",
        "# Separate features and target variable\n",
        "target = df['Class']\n",
        "df.drop('Class', axis=1, inplace=True)\n",
        "\n",
        "# Convert to numpy arrays\n",
        "X = np.array(df)\n",
        "y = np.array(target)\n",
        "\n",
        "# Split the data into training and testing sets\n",
        "X_train, X_test, y_train, y_test = train_test_split(X, y, test_size=0.25, random_state=1)\n",
        "\n",
        "# Apply SMOTE to handle class imbalance\n",
        "sm = SMOTE(random_state=2)\n",
        "X_sm, y_sm = sm.fit_resample(X_train, y_train)\n",
        "\n",
        "# Train the Random Forest classifier\n",
        "rf = RandomForestClassifier(random_state=3)\n",
        "rf.fit(X_sm, y_sm)\n",
        "\n",
        "# Function to predict the validity of a specific transaction\n",
        "def predict_transaction(index):\n",
        "    transaction = np.array(df.iloc[index]).reshape(1, -1)\n",
        "    prediction = rf.predict(transaction)\n",
        "    print(\"\\nTransaction Result:\")\n",
        "    print(\"Valid\" if prediction[0] == 0 else \"Not Valid\")\n",
        "\n",
        "# Ask the user for a transaction index from the CSV\n",
        "try:\n",
        "    index = int(input(\"Enter the transaction index (row number) you want to check: \"))\n",
        "    if index < 0 or index >= len(df):\n",
        "        print(\"Invalid index. Please enter a number within the dataset's range.\")\n",
        "    else:\n",
        "        predict_transaction(index)\n",
        "except ValueError:\n",
        "    print(\"Please enter a valid integer for the transaction index.\")"
      ]
    }
  ]
}